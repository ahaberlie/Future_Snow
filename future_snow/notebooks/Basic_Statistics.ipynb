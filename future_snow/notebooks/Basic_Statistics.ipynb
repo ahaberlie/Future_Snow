{
 "cells": [
  {
   "cell_type": "markdown",
   "metadata": {},
   "source": [
    "# Read in the preprocessed data and calculate some statistics"
   ]
  },
  {
   "cell_type": "code",
   "execution_count": 1,
   "metadata": {},
   "outputs": [],
   "source": [
    "import pickle\n",
    "\n",
    "paper_preproc = pickle.load(open(\"../example_data/pre_CTRL_2012_2013.pkl\", 'rb'))\n",
    "\n",
    "paper_preproc = paper_preproc[(paper_preproc['long_duration'] >= 24) & (paper_preproc['100k_between']==True)].copy()"
   ]
  },
  {
   "cell_type": "markdown",
   "metadata": {},
   "source": [
    "How many storms in 2012-2013 season?"
   ]
  },
  {
   "cell_type": "code",
   "execution_count": 2,
   "metadata": {},
   "outputs": [
    {
     "data": {
      "text/plain": [
       "113"
      ]
     },
     "execution_count": 2,
     "metadata": {},
     "output_type": "execute_result"
    }
   ],
   "source": [
    "paper_preproc.storm_num.nunique()"
   ]
  },
  {
   "cell_type": "markdown",
   "metadata": {},
   "source": [
    "How many for each month?"
   ]
  },
  {
   "cell_type": "code",
   "execution_count": 3,
   "metadata": {},
   "outputs": [
    {
     "name": "stdout",
     "output_type": "stream",
     "text": [
      "Month 10 count: 10\n",
      "Month 11 count: 18\n",
      "Month 12 count: 22\n",
      "Month 1 count: 21\n",
      "Month 2 count: 16\n",
      "Month 3 count: 15\n",
      "Month 4 count: 11\n"
     ]
    }
   ],
   "source": [
    "first = paper_preproc.groupby('storm_num').first()\n",
    "\n",
    "for m in [10, 11, 12, 1, 2, 3, 4]:\n",
    "    \n",
    "    month = first[first.start_time.dt.month==m]\n",
    "    \n",
    "    print(\"Month {} count: {}\".format(m, len(month)))"
   ]
  },
  {
   "cell_type": "markdown",
   "metadata": {},
   "source": [
    "Cumulative counts updated daily"
   ]
  },
  {
   "cell_type": "code",
   "execution_count": 4,
   "metadata": {},
   "outputs": [
    {
     "name": "stderr",
     "output_type": "stream",
     "text": [
      "C:\\Users\\ahaberlie1\\AppData\\Local\\Continuum\\anaconda3\\envs\\p37\\lib\\site-packages\\pandas\\plotting\\_converter.py:129: FutureWarning: Using an implicitly registered datetime converter for a matplotlib plotting method. The converter was registered by pandas on import. Future versions of pandas will require you to explicitly register matplotlib converters.\n",
      "\n",
      "To register the converters:\n",
      "\t>>> from pandas.plotting import register_matplotlib_converters\n",
      "\t>>> register_matplotlib_converters()\n",
      "  warnings.warn(msg, FutureWarning)\n"
     ]
    },
    {
     "data": {
      "text/plain": [
       "(0, 120)"
      ]
     },
     "execution_count": 4,
     "metadata": {},
     "output_type": "execute_result"
    },
    {
     "data": {
      "image/png": "[encoded data removed]",
      "text/plain": [
       "<Figure size 432x288 with 1 Axes>"
      ]
     },
     "metadata": {
      "needs_background": "light"
     },
     "output_type": "display_data"
    }
   ],
   "source": [
    "import datetime\n",
    "import matplotlib.pyplot as plt\n",
    "import pandas as pd\n",
    "%matplotlib inline\n",
    "\n",
    "ax = plt.subplot(1,1,1)\n",
    "\n",
    "#Get first timestep from storm\n",
    "year_storm = paper_preproc.groupby('storm_num').first()\n",
    "\n",
    "#set the storm index to the valid start time of the swath\n",
    "year_storm = year_storm.set_index('start_time', drop=False)\n",
    "\n",
    "#resample the first instances by day\n",
    "counts = year_storm.resample('D').count()\n",
    "\n",
    "#Set up the days between the start and end of the season\n",
    "rng = pd.date_range(start='2012-10-01', end='2013-05-01', freq='1D')\n",
    "\n",
    "#create empty DataFrame with all of the dates\n",
    "df_day = pd.DataFrame(columns=['date'], data=rng)\n",
    "df_day = df_day.set_index('date')\n",
    "\n",
    "#join the counts to the empty dataset and put zeros \n",
    "#where there aren't any storms\n",
    "df_counts = df_day.join(counts).fillna(0)\n",
    "\n",
    "#set a new column 'dsum' to the counts\n",
    "df_counts['dsum'] = df_counts['start_time'].values\n",
    "\n",
    "#calculate the cumulative sum over each day\n",
    "csum = df_counts[['dsum']].cumsum()\n",
    "\n",
    "#plot the cumulative sums\n",
    "ax.plot(csum.index, csum.dsum)\n",
    "\n",
    "ax.axvspan(datetime.datetime(2012, 10, 1), datetime.datetime(2012, 12, 1), facecolor='0.5', alpha=0.1)\n",
    "ax.axvspan(datetime.datetime(2013, 3, 1), datetime.datetime(2013, 5, 1), facecolor='0.5', alpha=0.1)\n",
    "ax.grid()\n",
    "ax.set_ylabel(\"Cumulative Seasonal Counts\")\n",
    "ax.set_xlim([datetime.date(2012, 10, 1), datetime.date(2013, 5, 1)])\n",
    "ax.set_ylim(0, 120)"
   ]
  },
  {
   "cell_type": "markdown",
   "metadata": {},
   "source": [
    "What is the cumulative duration for 2012-2013?"
   ]
  },
  {
   "cell_type": "code",
   "execution_count": 5,
   "metadata": {},
   "outputs": [
    {
     "data": {
      "text/plain": [
       "6771.0"
      ]
     },
     "execution_count": 5,
     "metadata": {},
     "output_type": "execute_result"
    }
   ],
   "source": [
    "import numpy as np\n",
    "\n",
    "np.sum(first.long_duration)"
   ]
  },
  {
   "cell_type": "markdown",
   "metadata": {},
   "source": [
    "What is the cumulative SWE (in cubic km) for 2012-2013?"
   ]
  },
  {
   "cell_type": "code",
   "execution_count": 6,
   "metadata": {},
   "outputs": [
    {
     "data": {
      "text/plain": [
       "1093.2779023889059"
      ]
     },
     "execution_count": 6,
     "metadata": {},
     "output_type": "execute_result"
    }
   ],
   "source": [
    "np.sum(paper_preproc[paper_preproc.start_time.dt.month.isin([10,11,12,1,2,3,4])].total_SWE_km3)"
   ]
  },
  {
   "cell_type": "markdown",
   "metadata": {},
   "source": [
    "What is the monthly SWE (in cubic km) for 2012-2013"
   ]
  },
  {
   "cell_type": "code",
   "execution_count": 7,
   "metadata": {},
   "outputs": [
    {
     "name": "stdout",
     "output_type": "stream",
     "text": [
      "Month 10 count: 55.421314774431835\n",
      "Month 11 count: 106.74364582330776\n",
      "Month 12 count: 248.91107285960436\n",
      "Month 1 count: 154.58581605279528\n",
      "Month 2 count: 185.18036672749457\n",
      "Month 3 count: 170.84145455669113\n",
      "Month 4 count: 171.594231594581\n"
     ]
    }
   ],
   "source": [
    "for m in [10, 11, 12, 1, 2, 3, 4]:\n",
    "    \n",
    "    month = paper_preproc[paper_preproc.start_time.dt.month==m]\n",
    "    \n",
    "    print(\"Month {} count: {}\".format(m, np.sum(month.total_SWE_km3)))"
   ]
  },
  {
   "cell_type": "markdown",
   "metadata": {},
   "source": [
    "Cumulative SWE updated daily"
   ]
  },
  {
   "cell_type": "code",
   "execution_count": 8,
   "metadata": {},
   "outputs": [
    {
     "data": {
      "text/plain": [
       "(0, 1200)"
      ]
     },
     "execution_count": 8,
     "metadata": {},
     "output_type": "execute_result"
    },
    {
     "data": {
      "image/png": "[encoded data removed]",
      "text/plain": [
       "<Figure size 432x288 with 1 Axes>"
      ]
     },
     "metadata": {
      "needs_background": "light"
     },
     "output_type": "display_data"
    }
   ],
   "source": [
    "import datetime\n",
    "\n",
    "ax = plt.subplot(1,1,1)\n",
    "\n",
    "#resample the first instances by day\n",
    "counts = paper_preproc.resample('D').sum()\n",
    "\n",
    "#Set up the days between the start and end of the season\n",
    "rng = pd.date_range(start='2012-10-01', end='2013-05-01', freq='1D')\n",
    "\n",
    "#create empty DataFrame with all of the dates\n",
    "df_day = pd.DataFrame(columns=['date'], data=rng)\n",
    "df_day = df_day.set_index('date')\n",
    "\n",
    "#join the counts to the empty dataset and put zeros \n",
    "#where there aren't any storms\n",
    "df_counts = df_day.join(counts).fillna(0)\n",
    "\n",
    "#set a new column 'dsum' to the counts\n",
    "df_counts['dsum'] = df_counts['total_SWE_km3'].values\n",
    "\n",
    "#calculate the cumulative sum over each day\n",
    "csum = df_counts[['dsum']].cumsum()\n",
    "\n",
    "#plot the cumulative sums\n",
    "ax.plot(csum.index, csum.dsum)\n",
    "\n",
    "ax.axvspan(datetime.datetime(2012, 10, 1), datetime.datetime(2012, 12, 1), facecolor='0.5', alpha=0.1)\n",
    "ax.axvspan(datetime.datetime(2013, 3, 1), datetime.datetime(2013, 5, 1), facecolor='0.5', alpha=0.1)\n",
    "ax.grid()\n",
    "ax.set_ylabel(\"Cumulative Seasonal SWE $(km^3)$\")\n",
    "ax.set_xlim('2012-10-01', '2013-05-01')\n",
    "ax.set_ylim(0, 1200)"
   ]
  },
  {
   "cell_type": "markdown",
   "metadata": {},
   "source": [
    "What is the cumulative swath area for 2012-2013?\n",
    "\n",
    "First, calculate maximum extent for each swath."
   ]
  },
  {
   "cell_type": "code",
   "execution_count": 9,
   "metadata": {},
   "outputs": [
    {
     "name": "stdout",
     "output_type": "stream",
     "text": [
      "Swath extent for CTRL_2012_2013_22164 is:  2809184.0\n"
     ]
    },
    {
     "data": {
      "image/png": "[encoded data removed]",
      "text/plain": [
       "<Figure size 432x288 with 2 Axes>"
      ]
     },
     "metadata": {
      "needs_background": "light"
     },
     "output_type": "display_data"
    }
   ],
   "source": [
    "example = paper_preproc[paper_preproc.storm_num=='CTRL_2012_2013_22164']\n",
    "\n",
    "result_slice = np.zeros(shape=(1015, 1359))\n",
    "result_extent = np.zeros(shape=(1015, 1359))\n",
    "\n",
    "for group in example.coords.values:\n",
    "    \n",
    "    y, x = group[:, 0], group[:, 1]\n",
    "    result_slice[y, x] += 1\n",
    "    result_extent[y, x] = 1\n",
    "   \n",
    "ax = plt.subplot(2,1,1)\n",
    "ax.imshow(result_slice)\n",
    "ax.set_title(\"Slice Count\")\n",
    "\n",
    "ax = plt.subplot(2,1,2)\n",
    "ax.imshow(result_extent)\n",
    "ax.set_title(\"Maximum Extent\")\n",
    "\n",
    "plt.tight_layout()\n",
    "\n",
    "print(\"Swath extent for CTRL_2012_2013_22164 is: \", 16*np.sum(result_extent))"
   ]
  },
  {
   "cell_type": "markdown",
   "metadata": {},
   "source": [
    "Do this for multiple swaths"
   ]
  },
  {
   "cell_type": "code",
   "execution_count": 10,
   "metadata": {},
   "outputs": [],
   "source": [
    "import numpy as np\n",
    "import pandas as pd\n",
    "\n",
    "ctrl_res = {'storm_num':[], 'season':[], 'start_date':[], \"end_date\":[],\n",
    "           'duration':[], 'swe':[], 'swath_area':[], 'swath_area_50p':[], 'swath_area_90p':[]}\n",
    "\n",
    "for sid, storm in paper_preproc.groupby('storm_num'):\n",
    "    \n",
    "    a = np.zeros(shape=(1015, 1359))\n",
    "    a50 = np.zeros(shape=(1015, 1359))\n",
    "    a90 = np.zeros(shape=(1015, 1359))\n",
    "    \n",
    "    ctrl_res['storm_num'].append(sid)\n",
    "    ctrl_res['start_date'].append(np.min(pd.to_datetime(storm.index)))\n",
    "    ctrl_res['end_date'].append(np.max(pd.to_datetime(storm.index)))\n",
    "    ctrl_res['duration'].append(storm['long_duration'].values[0])\n",
    "    ctrl_res['season'].append(storm.season.values[0])\n",
    "    ctrl_res['swe'].append(np.sum(storm['total_SWE_km3'].values))\n",
    "    \n",
    "    for group in storm.coords.values:\n",
    "        \n",
    "        y, x = group[:, 0], group[:, 1]\n",
    "        a[y, x] = 1\n",
    "        \n",
    "    for group in storm.coords_50p.values:\n",
    "\n",
    "        if len(group) > 0:\n",
    "            y, x = group[:, 0], group[:, 1]\n",
    "            a50[y, x] = 1\n",
    "\n",
    "    for group in storm.coords_90p.values:\n",
    "\n",
    "        if len(group) > 0:\n",
    "            y, x = group[:, 0], group[:, 1]\n",
    "            a90[y, x] = 1\n",
    "\n",
    "    ctrl_res['swath_area'].append(np.sum(a) * 16)\n",
    "    ctrl_res['swath_area_50p'].append(np.sum(a50) * 16)\n",
    "    ctrl_res['swath_area_90p'].append(np.sum(a90) * 16)\n",
    "\n",
    "ctrl_res = pd.DataFrame.from_dict(ctrl_res)"
   ]
  },
  {
   "cell_type": "markdown",
   "metadata": {},
   "source": [
    "Cumulative area, 50th percentile area, and 90th percentile area for 2012-2013"
   ]
  },
  {
   "cell_type": "code",
   "execution_count": 11,
   "metadata": {},
   "outputs": [
    {
     "name": "stdout",
     "output_type": "stream",
     "text": [
      "Area 214452848.0\n",
      "50th Area 159574944.0\n",
      "90th Area 60417744.0\n"
     ]
    }
   ],
   "source": [
    "print(\"Area {}\\n50th Area {}\\n90th Area {}\".format(ctrl_res['swath_area'].sum(),\n",
    "                                                   ctrl_res['swath_area_50p'].sum(),\n",
    "                                                   ctrl_res['swath_area_90p'].sum()))"
   ]
  }
 ],
 "metadata": {
  "kernelspec": {
   "display_name": "Python [conda env:p37]",
   "language": "python",
   "name": "conda-env-p37-py"
  },
  "language_info": {
   "codemirror_mode": {
    "name": "ipython",
    "version": 3
   },
   "file_extension": ".py",
   "mimetype": "text/x-python",
   "name": "python",
   "nbconvert_exporter": "python",
   "pygments_lexer": "ipython3",
   "version": "3.7.3"
  }
 },
 "nbformat": 4,
 "nbformat_minor": 4
}
